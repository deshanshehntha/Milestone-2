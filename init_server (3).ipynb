{
 "cells": [
  {
   "cell_type": "code",
   "execution_count": 1,
   "id": "d55cd124-d4dc-455a-8449-84a87363505d",
   "metadata": {
    "tags": []
   },
   "outputs": [
    {
     "data": {
      "application/vnd.jupyter.widget-view+json": {
       "model_id": "97a96560de7847cba3e73ed48cdc6f39",
       "version_major": 2,
       "version_minor": 0
      },
      "text/plain": [
       "VBox(children=(Dropdown(description='Select Project', options=('CHI-251508',), value='CHI-251508'), Output()))"
      ]
     },
     "metadata": {},
     "output_type": "display_data"
    },
    {
     "data": {
      "application/vnd.jupyter.widget-view+json": {
       "model_id": "2652ccf889d74a3eb294073385bd695c",
       "version_major": 2,
       "version_minor": 0
      },
      "text/plain": [
       "VBox(children=(Dropdown(description='Select Site', index=6, options=('CHI@TACC', 'CHI@UC', 'CHI@NU', 'CHI@NCAR…"
      ]
     },
     "metadata": {},
     "output_type": "display_data"
    }
   ],
   "source": [
    "from chi import server, context, lease\n",
    "import chi, os, time, datetime\n",
    "\n",
    "context.version = \"1.0\" \n",
    "context.choose_project()\n",
    "context.choose_site(default=\"KVM@TACC\")\n",
    "\n",
    "username = os.getenv('USER') # all exp resources will have this prefix"
   ]
  },
  {
   "cell_type": "code",
   "execution_count": 2,
   "id": "db0efb01-c577-475b-9608-e082f14c6f68",
   "metadata": {
    "tags": []
   },
   "outputs": [
    {
     "name": "stdout",
     "output_type": "stream",
     "text": [
      "Waiting for lease to start...\n"
     ]
    },
    {
     "data": {
      "application/vnd.jupyter.widget-view+json": {
       "model_id": "eced0619751f43919fa73df4e244b7eb",
       "version_major": 2,
       "version_minor": 0
      },
      "text/plain": [
       "HBox(children=(Label(value=''), IntProgress(value=0, bar_style='success')))"
      ]
     },
     "metadata": {},
     "output_type": "display_data"
    },
    {
     "name": "stdout",
     "output_type": "stream",
     "text": [
      "Lease ML_pipeline-dswdfb_missouri_edu has reached status active\n"
     ]
    }
   ],
   "source": [
    "l = lease.Lease(f\"ML_pipeline-{username}\", duration=datetime.timedelta(hours=6))\n",
    "l.add_flavor_reservation(id=chi.server.get_flavor_id(\"m1.medium\"), amount=1)\n",
    "l.submit(idempotent=True)"
   ]
  },
  {
   "cell_type": "code",
   "execution_count": 3,
   "id": "2b18f441-9499-41eb-816e-9d96bcb7ffec",
   "metadata": {
    "tags": []
   },
   "outputs": [
    {
     "data": {
      "application/vnd.jupyter.widget-view+json": {
       "model_id": "67c73a837bc84b3399317ef3f9bf6fcb",
       "version_major": 2,
       "version_minor": 0
      },
      "text/plain": [
       "HTML(value='\\n        <h2>Lease Details</h2>\\n        <table>\\n            <tr><th>Name</th><td>ML_pipeline-ds…"
      ]
     },
     "metadata": {},
     "output_type": "display_data"
    },
    {
     "name": "stdout",
     "output_type": "stream",
     "text": [
      "Lease Details:\n",
      "Name: ML_pipeline-dswdfb_missouri_edu\n",
      "ID: 213b241a-d61f-451e-9c1a-7323b425b4db\n",
      "Status: ACTIVE\n",
      "Start Date: 2025-10-28 16:22:00\n",
      "End Date: 2025-10-28 22:22:00\n",
      "User ID: 1d5182b969191c3674ff695880eb6212a98ee0f73ce24bb5e8c234ebb25477f7\n",
      "Project ID: 42c6889d45d74cc8bc6be5a377d21a05\n",
      "\n",
      "Node Reservations:\n",
      "\n",
      "Floating IP Reservations:\n",
      "\n",
      "Network Reservations:\n",
      "\n",
      "Flavor Reservations:\n",
      "ID: 1627cb73-b19f-4419-94f0-3efe9230d5ff, Status: active, Flavor: 1627cb73-b19f-4419-94f0-3efe9230d5ff, Amount: 1\n",
      "\n",
      "Events:\n"
     ]
    }
   ],
   "source": [
    "l.show()"
   ]
  },
  {
   "cell_type": "code",
   "execution_count": 4,
   "id": "dab2125b-00e9-488c-8ff4-d271db2a286e",
   "metadata": {
    "tags": []
   },
   "outputs": [
    {
     "name": "stderr",
     "output_type": "stream",
     "text": [
      "The python binding code in neutronclient is deprecated in favor of OpenstackSDK, please use that as this will be removed in a future release.\n"
     ]
    },
    {
     "name": "stdout",
     "output_type": "stream",
     "text": [
      "Waiting for server node-eval-offline-dswdfb_missouri_edu's status to become ACTIVE. This typically takes 10 minutes for baremetal, but can take up to 20 minutes.\n"
     ]
    },
    {
     "data": {
      "application/vnd.jupyter.widget-view+json": {
       "model_id": "d68cbe8c5a7d4ff9910d3e24b9ccd151",
       "version_major": 2,
       "version_minor": 0
      },
      "text/plain": [
       "HBox(children=(Label(value=''), IntProgress(value=0, bar_style='success')))"
      ]
     },
     "metadata": {},
     "output_type": "display_data"
    },
    {
     "name": "stdout",
     "output_type": "stream",
     "text": [
      "Server has moved to status ACTIVE\n"
     ]
    },
    {
     "data": {
      "text/html": [
       "<table style='border-collapse: collapse; width: 100%;'><tr style='background-color: #f2f2f2;'><th style='border: 1px solid #ddd; padding: 8px;'>Attribute</th><th style='border: 1px solid #ddd; padding: 8px;'>node-eval-offline-dswdfb_missouri_edu</th></tr><tr><td style='border: 1px solid #ddd; padding: 8px;'>Id</td><td style='border: 1px solid #ddd; padding: 8px;'>e9d6d0f9-da3e-4ba1-a8b9-46d2814a1943</td></tr><tr><td style='border: 1px solid #ddd; padding: 8px;'>Status</td><td style='border: 1px solid #ddd; padding: 8px;'>ACTIVE</td></tr><tr><td style='border: 1px solid #ddd; padding: 8px;'>Image Name</td><td style='border: 1px solid #ddd; padding: 8px;'>CC-Ubuntu24.04</td></tr><tr><td style='border: 1px solid #ddd; padding: 8px;'>Flavor Name</td><td style='border: 1px solid #ddd; padding: 8px;'>reservation:1627cb73-b19f-4419-94f0-3efe9230d5ff</td></tr><tr><td style='border: 1px solid #ddd; padding: 8px;'>Addresses</td><td style='border: 1px solid #ddd; padding: 8px;'><strong>sharednet1:</strong><br>&nbsp;&nbsp;IP: 10.56.1.10 (v4)<br>&nbsp;&nbsp;Type: fixed<br>&nbsp;&nbsp;MAC: fa:16:3e:c4:ed:22<br></td></tr><tr><td style='border: 1px solid #ddd; padding: 8px;'>Network Name</td><td style='border: 1px solid #ddd; padding: 8px;'>sharednet1</td></tr><tr><td style='border: 1px solid #ddd; padding: 8px;'>Created At</td><td style='border: 1px solid #ddd; padding: 8px;'>2025-10-28T16:23:36Z</td></tr><tr><td style='border: 1px solid #ddd; padding: 8px;'>Keypair</td><td style='border: 1px solid #ddd; padding: 8px;'>dswdfb_missouri_edu-jupyter</td></tr><tr><td style='border: 1px solid #ddd; padding: 8px;'>Reservation Id</td><td style='border: 1px solid #ddd; padding: 8px;'>None</td></tr><tr><td style='border: 1px solid #ddd; padding: 8px;'>Host Id</td><td style='border: 1px solid #ddd; padding: 8px;'>2301d9f41d613700810b3b1a244eabd675bc203843d5aafef904dab6</td></tr><tr><td style='border: 1px solid #ddd; padding: 8px;'>Host Status</td><td style='border: 1px solid #ddd; padding: 8px;'>None</td></tr><tr><td style='border: 1px solid #ddd; padding: 8px;'>Hypervisor Hostname</td><td style='border: 1px solid #ddd; padding: 8px;'>None</td></tr><tr><td style='border: 1px solid #ddd; padding: 8px;'>Is Locked</td><td style='border: 1px solid #ddd; padding: 8px;'>False</td></tr></table>"
      ],
      "text/plain": [
       "<IPython.core.display.HTML object>"
      ]
     },
     "metadata": {},
     "output_type": "display_data"
    }
   ],
   "source": [
    "username = os.getenv('USER') # all exp resources will have this prefix\n",
    "s = server.Server(\n",
    "    f\"node-eval-offline-{username}\", \n",
    "    image_name=\"CC-Ubuntu24.04\",\n",
    "    flavor_name=l.get_reserved_flavors()[0].name\n",
    ")\n",
    "s.submit(idempotent=True)"
   ]
  },
  {
   "cell_type": "code",
   "execution_count": 5,
   "id": "97ab3727-d70b-48a0-bd2f-8d25e6d10fe9",
   "metadata": {
    "tags": []
   },
   "outputs": [
    {
     "name": "stderr",
     "output_type": "stream",
     "text": [
      "The python binding code in neutronclient is deprecated in favor of OpenstackSDK, please use that as this will be removed in a future release.\n"
     ]
    },
    {
     "data": {
      "text/plain": [
       "'129.114.25.86'"
      ]
     },
     "execution_count": 5,
     "metadata": {},
     "output_type": "execute_result"
    }
   ],
   "source": [
    "s.associate_floating_ip()"
   ]
  },
  {
   "cell_type": "code",
   "execution_count": 6,
   "id": "57150c08-43b9-4c7e-835c-6553b9304e93",
   "metadata": {
    "tags": []
   },
   "outputs": [
    {
     "name": "stdout",
     "output_type": "stream",
     "text": [
      "Checking connectivity to 129.114.25.86 port 22.\n"
     ]
    },
    {
     "data": {
      "application/vnd.jupyter.widget-view+json": {
       "model_id": "6f6582a9b17c43a4a82cb1a81b1bec68",
       "version_major": 2,
       "version_minor": 0
      },
      "text/plain": [
       "HBox(children=(Label(value=''), IntProgress(value=0, bar_style='success')))"
      ]
     },
     "metadata": {},
     "output_type": "display_data"
    },
    {
     "name": "stdout",
     "output_type": "stream",
     "text": [
      "Connection successful\n"
     ]
    }
   ],
   "source": [
    "s.refresh()\n",
    "s.check_connectivity()"
   ]
  },
  {
   "cell_type": "code",
   "execution_count": 7,
   "id": "502aecb3-215d-49f5-8364-7b52ea2aa9e6",
   "metadata": {
    "tags": []
   },
   "outputs": [
    {
     "data": {
      "text/html": [
       "<table style='border-collapse: collapse; width: 100%;'><tr style='background-color: #f2f2f2;'><th style='border: 1px solid #ddd; padding: 8px;'>Attribute</th><th style='border: 1px solid #ddd; padding: 8px;'>node-eval-offline-dswdfb_missouri_edu</th></tr><tr><td style='border: 1px solid #ddd; padding: 8px;'>Id</td><td style='border: 1px solid #ddd; padding: 8px;'>e9d6d0f9-da3e-4ba1-a8b9-46d2814a1943</td></tr><tr><td style='border: 1px solid #ddd; padding: 8px;'>Status</td><td style='border: 1px solid #ddd; padding: 8px;'>ACTIVE</td></tr><tr><td style='border: 1px solid #ddd; padding: 8px;'>Image Name</td><td style='border: 1px solid #ddd; padding: 8px;'>CC-Ubuntu24.04</td></tr><tr><td style='border: 1px solid #ddd; padding: 8px;'>Flavor Name</td><td style='border: 1px solid #ddd; padding: 8px;'>reservation:1627cb73-b19f-4419-94f0-3efe9230d5ff</td></tr><tr><td style='border: 1px solid #ddd; padding: 8px;'>Addresses</td><td style='border: 1px solid #ddd; padding: 8px;'><strong>sharednet1:</strong><br>&nbsp;&nbsp;IP: 10.56.1.10 (v4)<br>&nbsp;&nbsp;Type: fixed<br>&nbsp;&nbsp;MAC: fa:16:3e:c4:ed:22<br>&nbsp;&nbsp;IP: 129.114.25.86 (v4)<br>&nbsp;&nbsp;Type: floating<br>&nbsp;&nbsp;MAC: fa:16:3e:c4:ed:22<br></td></tr><tr><td style='border: 1px solid #ddd; padding: 8px;'>Network Name</td><td style='border: 1px solid #ddd; padding: 8px;'>sharednet1</td></tr><tr><td style='border: 1px solid #ddd; padding: 8px;'>Created At</td><td style='border: 1px solid #ddd; padding: 8px;'>2025-10-28T16:23:36Z</td></tr><tr><td style='border: 1px solid #ddd; padding: 8px;'>Keypair</td><td style='border: 1px solid #ddd; padding: 8px;'>dswdfb_missouri_edu-jupyter</td></tr><tr><td style='border: 1px solid #ddd; padding: 8px;'>Reservation Id</td><td style='border: 1px solid #ddd; padding: 8px;'>None</td></tr><tr><td style='border: 1px solid #ddd; padding: 8px;'>Host Id</td><td style='border: 1px solid #ddd; padding: 8px;'>2301d9f41d613700810b3b1a244eabd675bc203843d5aafef904dab6</td></tr><tr><td style='border: 1px solid #ddd; padding: 8px;'>Host Status</td><td style='border: 1px solid #ddd; padding: 8px;'>None</td></tr><tr><td style='border: 1px solid #ddd; padding: 8px;'>Hypervisor Hostname</td><td style='border: 1px solid #ddd; padding: 8px;'>None</td></tr><tr><td style='border: 1px solid #ddd; padding: 8px;'>Is Locked</td><td style='border: 1px solid #ddd; padding: 8px;'>False</td></tr></table>"
      ],
      "text/plain": [
       "<IPython.core.display.HTML object>"
      ]
     },
     "metadata": {},
     "output_type": "display_data"
    }
   ],
   "source": [
    "s.refresh()\n",
    "s.show(type=\"widget\")"
   ]
  },
  {
   "cell_type": "code",
   "execution_count": 8,
   "id": "6921a34e-2e41-40b5-b758-de9afef8cd57",
   "metadata": {
    "tags": []
   },
   "outputs": [
    {
     "name": "stderr",
     "output_type": "stream",
     "text": [
      "/opt/conda/lib/python3.12/site-packages/paramiko/client.py:885: UserWarning: Unknown ssh-ed25519 host key for 129.114.25.86: b'60dc009e508c16b37f0ee893001d66b6'\n",
      "  warnings.warn(\n"
     ]
    },
    {
     "name": "stdout",
     "output_type": "stream",
     "text": [
      "# Executing docker install script, commit: 86415efcfe5f8d966625843da41a0f798238cce5\n"
     ]
    },
    {
     "name": "stderr",
     "output_type": "stream",
     "text": [
      "+ sh -c apt-get -qq update >/dev/null\n",
      "+ sh -c DEBIAN_FRONTEND=noninteractive apt-get -y -qq install ca-certificates curl >/dev/null\n",
      "+ sh -c install -m 0755 -d /etc/apt/keyrings\n",
      "+ sh -c curl -fsSL \"https://download.docker.com/linux/ubuntu/gpg\" -o /etc/apt/keyrings/docker.asc\n",
      "+ sh -c chmod a+r /etc/apt/keyrings/docker.asc\n",
      "+ sh -c echo \"deb [arch=amd64 signed-by=/etc/apt/keyrings/docker.asc] https://download.docker.com/linux/ubuntu noble stable\" > /etc/apt/sources.list.d/docker.list\n",
      "+ sh -c apt-get -qq update >/dev/null\n",
      "+ sh -c DEBIAN_FRONTEND=noninteractive apt-get -y -qq install docker-ce docker-ce-cli containerd.io docker-compose-plugin docker-ce-rootless-extras docker-buildx-plugin docker-model-plugin >/dev/null\n",
      "\n",
      "Running kernel seems to be up-to-date.\n",
      "\n",
      "No services need to be restarted.\n",
      "\n",
      "No containers need to be restarted.\n",
      "\n",
      "No user sessions are running outdated binaries.\n",
      "\n",
      "No VM guests are running outdated hypervisor (qemu) binaries on this host.\n",
      "+ sh -c docker version\n"
     ]
    },
    {
     "name": "stdout",
     "output_type": "stream",
     "text": [
      "Client: Docker Engine - Community\n",
      " Version:           28.5.1\n",
      " API version:       1.51\n",
      " Go version:        go1.24.8\n",
      " Git commit:        e180ab8\n",
      " Built:             Wed Oct  8 12:17:26 2025\n",
      " OS/Arch:           linux/amd64\n",
      " Context:           default\n",
      "\n",
      "Server: Docker Engine - Community\n",
      " Engine:\n",
      "  Version:          28.5.1\n",
      "  API version:      1.51 (minimum version 1.24)\n",
      "  Go version:       go1.24.8\n",
      "  Git commit:       f8215cc\n",
      "  Built:            Wed Oct  8 12:17:26 2025\n",
      "  OS/Arch:          linux/amd64\n",
      "  Experimental:     false\n",
      " containerd:\n",
      "  Version:          v1.7.28\n",
      "  GitCommit:        b98a3aace656320842a23f4a392a33f46af97866\n",
      " runc:\n",
      "  Version:          1.3.0\n",
      "  GitCommit:        v1.3.0-0-g4ca628d1\n",
      " docker-init:\n",
      "  Version:          0.19.0\n",
      "  GitCommit:        de40ad0\n",
      "\n",
      "================================================================================\n",
      "\n",
      "To run Docker as a non-privileged user, consider setting up the\n",
      "Docker daemon in rootless mode for your user:\n",
      "\n",
      "    dockerd-rootless-setuptool.sh install\n",
      "\n",
      "Visit https://docs.docker.com/go/rootless/ to learn about rootless mode.\n",
      "\n",
      "\n",
      "To run the Docker daemon as a fully privileged service, but granting non-root\n",
      "users access, refer to https://docs.docker.com/go/daemon-access/\n",
      "\n",
      "WARNING: Access to the remote API on a privileged Docker daemon is equivalent\n",
      "         to root access on the host. Refer to the 'Docker daemon attack surface'\n",
      "         documentation for details: https://docs.docker.com/go/attack-surface/\n",
      "\n",
      "================================================================================\n",
      "\n"
     ]
    },
    {
     "data": {
      "text/plain": [
       "<Result cmd='sudo groupadd -f docker; sudo usermod -aG docker $USER' exited=0>"
      ]
     },
     "execution_count": 8,
     "metadata": {},
     "output_type": "execute_result"
    }
   ],
   "source": [
    "s.execute(\"curl -sSL https://get.docker.com/ | sudo sh\")\n",
    "s.execute(\"sudo groupadd -f docker; sudo usermod -aG docker $USER\")"
   ]
  },
  {
   "cell_type": "code",
   "execution_count": null,
   "id": "51c87958-cfee-4aac-a4f6-1feb437c825f",
   "metadata": {},
   "outputs": [],
   "source": [
    "Create dataa"
   ]
  },
  {
   "cell_type": "code",
   "execution_count": null,
   "id": "8be14217-366e-451a-a192-7aae38222060",
   "metadata": {},
   "outputs": [],
   "source": [
    "mkdir -p eval-offline-chi/docker\n",
    "mkdir -p eval-offline-chi/scripts\n"
   ]
  },
  {
   "cell_type": "code",
   "execution_count": null,
   "id": "dbc0d190-6756-4075-99e3-6f60b776aa29",
   "metadata": {},
   "outputs": [],
   "source": [
    "nano eval-offline-chi/scripts/prepare_qasper.py\n"
   ]
  },
  {
   "cell_type": "code",
   "execution_count": null,
   "id": "8638a200-8001-456c-810c-1c0eeb7cc258",
   "metadata": {},
   "outputs": [],
   "source": [
    "import os\n",
    "import pandas as pd\n",
    "from datasets import load_dataset\n",
    "\n",
    "# Make output folder\n",
    "os.makedirs(\"/mnt/Qasper\", exist_ok=True)\n",
    "\n",
    "# Load the QASPER dataset\n",
    "print(\"📦 Downloading allenai/qasper dataset ...\")\n",
    "ds = load_dataset(\"allenai/qasper\", split=\"train\")\n",
    "\n",
    "rows = []\n",
    "for paper in ds:\n",
    "    if paper[\"qas\"][\"question\"]:\n",
    "        rows.append({\n",
    "            \"id\": paper[\"id\"],\n",
    "            \"title\": paper[\"title\"],\n",
    "            \"n_questions\": len(paper[\"qas\"][\"question\"])\n",
    "        })\n",
    "\n",
    "df = pd.DataFrame(rows)\n",
    "out_path = \"/mnt/Qasper/summary.csv\"\n",
    "df.to_csv(out_path, index=False)\n",
    "\n",
    "print(f\"✅ Saved {out_path} with {len(df)} papers\")\n"
   ]
  },
  {
   "cell_type": "code",
   "execution_count": null,
   "id": "fdbd5b24-25ee-4bae-a2c1-d418b312debe",
   "metadata": {},
   "outputs": [],
   "source": [
    "nano eval-offline-chi/docker/docker-compose-data.yaml\n"
   ]
  },
  {
   "cell_type": "code",
   "execution_count": null,
   "id": "085902e5-3e2d-43f5-978c-032c97f63396",
   "metadata": {},
   "outputs": [],
   "source": [
    "version: \"3.8\"\n",
    "\n",
    "services:\n",
    "  prepare-qasper:\n",
    "    image: python:3.11-slim\n",
    "    container_name: prepare-qasper\n",
    "    volumes:\n",
    "      - qasperdata:/mnt\n",
    "      - ../scripts:/scripts\n",
    "    working_dir: /scripts\n",
    "    command: >\n",
    "      bash -c \"apt-get update -y &&\n",
    "      apt-get install -y git &&\n",
    "      pip install pandas datasets==2.19.1 &&\n",
    "      python prepare_qasper.py\"\n",
    "    restart: \"no\"\n",
    "\n",
    "volumes:\n",
    "  qasperdata:\n",
    "    external: true\n"
   ]
  },
  {
   "cell_type": "code",
   "execution_count": null,
   "id": "e49b5311-052a-4e6c-87eb-ba0b4368f6eb",
   "metadata": {},
   "outputs": [],
   "source": [
    "docker run --rm -it -v qasperdata:/mnt alpine ls -l /mnt/Qasper\n"
   ]
  },
  {
   "cell_type": "code",
   "execution_count": null,
   "id": "ecf95aab-68fc-49d8-a720-4a4d6b193c62",
   "metadata": {},
   "outputs": [],
   "source": [
    "nano eval-offline-chi/scripts/prepare_hotpot.py\n"
   ]
  },
  {
   "cell_type": "code",
   "execution_count": null,
   "id": "69d9a562-2f1a-4505-ba93-889f11cead6c",
   "metadata": {},
   "outputs": [],
   "source": [
    "import os\n",
    "import json\n",
    "import pandas as pd\n",
    "import kagglehub\n",
    "\n",
    "os.makedirs(\"/mnt/HotpotQA\", exist_ok=True)\n",
    "\n",
    "print(\"Downloading HotpotQA dataset via KaggleHub...\")\n",
    "\n",
    "path = kagglehub.dataset_download(\"jeromeblanchet/hotpotqa-question-answering-dataset\")\n",
    "print(f\"Path to HotpotQA dataset: {path}\")\n",
    "\n",
    "json_path = os.path.join(path, \"hotpot_dev_distractor_v1.json\")\n",
    "if not os.path.exists(json_path):\n",
    "    raise FileNotFoundError(f\"Could not find {json_path}\")\n",
    "\n",
    "with open(json_path, \"r\") as f:\n",
    "    hotpot_data = json.load(f)\n",
    "\n",
    "print(f\"Loaded {len(hotpot_data)} examples\")\n",
    "\n",
    "rows = []\n",
    "for ex in hotpot_data:\n",
    "    rows.append({\n",
    "        \"id\": ex[\"_id\"],\n",
    "        \"question\": ex[\"question\"],\n",
    "        \"answer\": ex[\"answer\"],\n",
    "        \"context\": ex[\"context\"],\n",
    "        \"supporting_facts\": ex[\"supporting_facts\"]\n",
    "    })\n",
    "\n",
    "df = pd.DataFrame(rows)\n",
    "out_csv = \"/mnt/HotpotQA/processed_hotpot_df.csv\"\n",
    "df.to_csv(out_csv, index=False)\n",
    "\n",
    "print(f\"Saved processed HotpotQA CSV to {out_csv}\")\n"
   ]
  },
  {
   "cell_type": "code",
   "execution_count": null,
   "id": "bbe63f9a-6343-4aac-b4ca-f17401c28ec3",
   "metadata": {},
   "outputs": [],
   "source": [
    "version: \"3.8\"\n",
    "\n",
    "services:\n",
    "  prepare-hotpot:\n",
    "    image: python:3.11-slim\n",
    "    container_name: prepare-hotpot\n",
    "    working_dir: /scripts\n",
    "    volumes:\n",
    "      - hotpotdata:/mnt\n",
    "      - ../scripts:/scripts\n",
    "    command: >\n",
    "      bash -c \"apt-get update -y &&\n",
    "      apt-get install -y git &&\n",
    "      pip install --upgrade pip &&\n",
    "      pip install pandas kagglehub &&\n",
    "      python prepare_hotpot.py\"\n",
    "    restart: \"no\"\n",
    "\n",
    "volumes:\n",
    "  hotpotdata:\n",
    "    external: true\n"
   ]
  },
  {
   "cell_type": "code",
   "execution_count": null,
   "id": "9a4a2c75-a1c6-458b-8c82-07030cadceb5",
   "metadata": {},
   "outputs": [],
   "source": [
    "docker volume create hotpotdata\n"
   ]
  },
  {
   "cell_type": "code",
   "execution_count": null,
   "id": "0c5c2846-9a90-4c66-a2ad-d9ee043a6da0",
   "metadata": {},
   "outputs": [],
   "source": [
    "docker run --rm -it -v hotpotdata:/mnt alpine ls -l /mnt/HotpotQA\n"
   ]
  },
  {
   "cell_type": "code",
   "execution_count": null,
   "id": "4ccc8796-7f14-4c28-80b4-ed557af1ee58",
   "metadata": {},
   "outputs": [],
   "source": [
    "nano eval-offline-chi/docker/docker-compose-datasets.yaml\n"
   ]
  },
  {
   "cell_type": "code",
   "execution_count": null,
   "id": "b5e8ce63-9f7a-43a9-ac64-079aa296dbab",
   "metadata": {},
   "outputs": [],
   "source": [
    "version: \"3.8\"\n",
    "\n",
    "services:\n",
    "  prepare-qasper:\n",
    "    image: python:3.11-slim\n",
    "    container_name: prepare-qasper\n",
    "    working_dir: /scripts\n",
    "    volumes:\n",
    "      - qasperdata:/mnt\n",
    "      - ../scripts:/scripts\n",
    "    command: >\n",
    "      bash -c \"apt-get update -y &&\n",
    "      apt-get install -y git &&\n",
    "      pip install --upgrade pip &&\n",
    "      pip install pandas datasets==2.19.1 &&\n",
    "      python prepare_qasper.py\"\n",
    "    restart: \"no\"\n",
    "\n",
    "  prepare-hotpot:\n",
    "    image: python:3.11-slim\n",
    "    container_name: prepare-hotpot\n",
    "    working_dir: /scripts\n",
    "    volumes:\n",
    "      - hotpotdata:/mnt\n",
    "      - ../scripts:/scripts\n",
    "    command: >\n",
    "      bash -c \"apt-get update -y &&\n",
    "      apt-get install -y git &&\n",
    "      pip install --upgrade pip &&\n",
    "      pip install pandas kagglehub &&\n",
    "      python prepare_hotpot.py\"\n",
    "    restart: \"no\"\n",
    "\n",
    "volumes:\n",
    "  qasperdata:\n",
    "    external: true\n",
    "  hotpotdata:\n",
    "    external: true\n"
   ]
  },
  {
   "cell_type": "code",
   "execution_count": null,
   "id": "b65e40bc-1c6c-4e61-91c4-9c1ac56b564a",
   "metadata": {},
   "outputs": [],
   "source": [
    "docker volume create qasperdata\n",
    "docker volume create hotpotdata\n"
   ]
  },
  {
   "cell_type": "code",
   "execution_count": null,
   "id": "99a6323e-686a-4f61-a579-5109d8ae7dcf",
   "metadata": {},
   "outputs": [],
   "source": [
    "docker compose -f eval-offline-chi/docker/docker-compose-datasets.yaml up\n"
   ]
  },
  {
   "cell_type": "code",
   "execution_count": null,
   "id": "155a8bf6-fb64-4ff3-94f0-2bf4686e0769",
   "metadata": {},
   "outputs": [],
   "source": [
    "docker run --rm -it -v qasperdata:/mnt alpine ls -l /mnt/Qasper\n",
    "docker run --rm -it -v hotpotdata:/mnt alpine ls -l /mnt/HotpotQA"
   ]
  },
  {
   "cell_type": "code",
   "execution_count": null,
   "id": "e0c23560-491f-45d1-999a-e0b58a3c7219",
   "metadata": {},
   "outputs": [],
   "source": []
  },
  {
   "cell_type": "code",
   "execution_count": null,
   "id": "b6e09cce-8c85-4da2-8c72-0e274542285f",
   "metadata": {},
   "outputs": [],
   "source": [
    "docker run -d --rm \\\n",
    "  -p 8888:8888 \\\n",
    "  -v ~/eval-offline-chi/workspace:/home/jovyan/work/ \\\n",
    "  -v qasperdata:/mnt/Qasper \\\n",
    "  -v hotpotdata:/mnt/HotpotQA \\\n",
    "  -e QASPER_DATA_DIR=/mnt/Qasper \\\n",
    "  -e HOTPOT_DATA_DIR=/mnt/HotpotQA \\\n",
    "  --name jupyter \\\n",
    "  quay.io/jupyter/pytorch-notebook:pytorch-2.5.1\n"
   ]
  },
  {
   "cell_type": "code",
   "execution_count": null,
   "id": "c581855c-16e6-44c0-847a-d1e30e09c642",
   "metadata": {},
   "outputs": [],
   "source": []
  },
  {
   "cell_type": "code",
   "execution_count": null,
   "id": "45d2847c-dd6f-4eea-b642-3b87a5bb79ba",
   "metadata": {},
   "outputs": [],
   "source": [
    "cc@node-eval-offline-dswdfb-missouri-edu:~/eval-offline-chi$ cd ~/eval-offline-chi\n",
    "cc@node-eval-offline-dswdfb-missouri-edu:~/eval-offline-chi$ mkdir -p models/{tinyroberta,roberta-base,bert-large}\n",
    "cc@node-eval-offline-dswdfb-missouri-edu:~/eval-offline-chi$ "
   ]
  },
  {
   "cell_type": "code",
   "execution_count": null,
   "id": "b3fe5e74-55d2-4d45-8940-ad050b47487f",
   "metadata": {},
   "outputs": [],
   "source": [
    "nano ~/eval-offline-chi/models/server.py\n"
   ]
  },
  {
   "cell_type": "code",
   "execution_count": null,
   "id": "6038aebe-e44a-4f34-af88-bd30de4e88d8",
   "metadata": {},
   "outputs": [],
   "source": [
    "import os, time, asyncio, grpc, torch\n",
    "from transformers import AutoTokenizer, AutoModelForQuestionAnswering\n",
    "import qa_pb2, qa_pb2_grpc\n",
    "\n",
    "class QAServicer(qa_pb2_grpc.QAServerServicer):\n",
    "    def __init__(self, model_name):\n",
    "        self.tok = AutoTokenizer.from_pretrained(model_name)\n",
    "        self.mdl = AutoModelForQuestionAnswering.from_pretrained(model_name).eval()\n",
    "\n",
    "    async def Answer(self, request, context):\n",
    "        t0 = time.perf_counter()\n",
    "        ins = self.tok(request.question, return_tensors=\"pt\", truncation=True, max_length=384)\n",
    "        t1 = time.perf_counter()\n",
    "        with torch.no_grad():\n",
    "            out = self.mdl(**ins)\n",
    "        si = int(out.start_logits.argmax()); ei = int(out.end_logits.argmax())\n",
    "        ans = self.tok.decode(ins.input_ids[0, si:ei+1], skip_special_tokens=True)\n",
    "        inf_ms = (time.perf_counter()-t1)*1000\n",
    "        e2e_ms = (time.perf_counter()-t0)*1000\n",
    "        conf = float(out.start_logits.softmax(-1)[0,si] * out.end_logits.softmax(-1)[0,ei])\n",
    "        return qa_pb2.AnswerResponse(answer=ans, confidence=conf,\n",
    "                                     retrieval_ms=0.0, inference_ms=inf_ms, end_to_end_ms=e2e_ms)\n",
    "\n",
    "async def serve():\n",
    "    port = int(os.environ.get(\"PORT\",\"50051\"))\n",
    "    model = os.environ.get(\"MODEL_NAME\",\"deepset/tinyroberta-squad2\")\n",
    "    server = grpc.aio.server()\n",
    "    qa_pb2_grpc.add_QAServerServicer_to_server(QAServicer(model), server)\n",
    "    server.add_insecure_port(f\"[::]:{port}\")\n",
    "    await server.start()\n",
    "    print(f\"Serving {model} on :{port}\", flush=True)\n",
    "    await server.wait_for_termination()\n",
    "\n",
    "if __name__ == \"__main__\":\n",
    "    asyncio.run(serve())\n"
   ]
  },
  {
   "cell_type": "code",
   "execution_count": null,
   "id": "cc553a6c-7e5d-4c04-bcca-b075a156f9f5",
   "metadata": {},
   "outputs": [],
   "source": [
    "nano qa.proto\n"
   ]
  },
  {
   "cell_type": "code",
   "execution_count": null,
   "id": "ba974937-8cfb-4f55-a630-8148fcbfe147",
   "metadata": {},
   "outputs": [],
   "source": [
    "syntax = \"proto3\";\n",
    "package qa;\n",
    "\n",
    "service QAServer {\n",
    "  rpc Answer(Question) returns (AnswerResponse) {}\n",
    "}\n",
    "\n",
    "message Question {\n",
    "  string question = 1;\n",
    "  string paper_id = 2;\n",
    "}\n",
    "\n",
    "message AnswerResponse {\n",
    "  string answer = 1;\n",
    "  double confidence = 2;\n",
    "  double retrieval_ms = 3;\n",
    "  double inference_ms = 4;\n",
    "  double end_to_end_ms = 5;\n",
    "}\n"
   ]
  },
  {
   "cell_type": "code",
   "execution_count": null,
   "id": "dec2c9ea-862c-4876-9be1-13fe0f37ed2a",
   "metadata": {},
   "outputs": [],
   "source": [
    "cd ~/eval-offline-chi\n",
    "python3 -m venv venv\n",
    "source venv/bin/activate\n"
   ]
  },
  {
   "cell_type": "code",
   "execution_count": null,
   "id": "23e241c6-27d6-4f08-980b-7fe5c7338327",
   "metadata": {},
   "outputs": [],
   "source": [
    "pip install --upgrade pip\n",
    "pip install grpcio grpcio-tools transformers torch\n"
   ]
  },
  {
   "cell_type": "code",
   "execution_count": null,
   "id": "9bb5def9-efd5-44ef-80e0-5c3b58e4d533",
   "metadata": {},
   "outputs": [],
   "source": [
    "python -m grpc_tools.protoc -I. --python_out=. --grpc_python_out=. qa.proto\n"
   ]
  },
  {
   "cell_type": "code",
   "execution_count": null,
   "id": "2f84f49a-ae9e-40ec-8ed9-a130f144a562",
   "metadata": {},
   "outputs": [],
   "source": [
    "cp qa_pb2.py qa_pb2_grpc.py models/tinyroberta/\n",
    "cp qa_pb2.py qa_pb2_grpc.py models/roberta-base/\n",
    "cp qa_pb2.py qa_pb2_grpc.py models/bert-large/\n"
   ]
  },
  {
   "cell_type": "code",
   "execution_count": null,
   "id": "7d42095f-fee4-4e43-889e-d87b4c1e6425",
   "metadata": {},
   "outputs": [],
   "source": [
    "ls models/tinyroberta\n"
   ]
  },
  {
   "cell_type": "code",
   "execution_count": null,
   "id": "5e963d81-b844-4783-a050-0e7948303704",
   "metadata": {},
   "outputs": [],
   "source": [
    "FROM python:3.11-slim\n",
    "WORKDIR /app\n",
    "COPY server.py qa_pb2.py qa_pb2_grpc.py /app/\n",
    "RUN pip install --no-cache-dir torch transformers grpcio protobuf\n",
    "ENV MODEL_NAME=deepset/tinyroberta-squad2\n",
    "ENV PORT=50051\n",
    "CMD [\"python\", \"server.py\"]\n"
   ]
  },
  {
   "cell_type": "code",
   "execution_count": null,
   "id": "274f433e-f521-4825-87c9-ddb02808b107",
   "metadata": {},
   "outputs": [],
   "source": [
    "docker build -t qa-tinyroberta models/tinyroberta\n",
    "docker build -t qa-roberta-base models/roberta-base\n",
    "docker build -t qa-bert-large models/bert-large\n"
   ]
  },
  {
   "cell_type": "code",
   "execution_count": null,
   "id": "87009c02-4d6b-430e-9b41-c06129895dfd",
   "metadata": {},
   "outputs": [],
   "source": [
    "docker run -d --name tinyroberta-debug \\\n",
    "  -p 50051:50051 \\\n",
    "  -v ~/.cache/huggingface:/root/.cache/huggingface \\\n",
    "  qa-tinyroberta\n",
    "\n",
    "docker run -d --name roberta-base \\\n",
    "  -p 50052:50051 \\\n",
    "  -v ~/.cache/huggingface:/root/.cache/huggingface \\\n",
    "  qa-roberta-base\n",
    "\n",
    "docker run -d --name bert-large \\\n",
    "  -p 50053:50051 \\\n",
    "  -v ~/.cache/huggingface:/root/.cache/huggingface \\\n",
    "  qa-bert-large\n"
   ]
  },
  {
   "cell_type": "code",
   "execution_count": null,
   "id": "23000690-8dca-4833-b053-121d38f2dafd",
   "metadata": {},
   "outputs": [],
   "source": []
  },
  {
   "cell_type": "code",
   "execution_count": null,
   "id": "98318a48-b031-46c3-995e-f0fb133a34fc",
   "metadata": {},
   "outputs": [],
   "source": []
  },
  {
   "cell_type": "code",
   "execution_count": null,
   "id": "88772a9e-6bb3-4ef1-9ba4-e84c78797d82",
   "metadata": {},
   "outputs": [],
   "source": []
  },
  {
   "cell_type": "code",
   "execution_count": null,
   "id": "70e6b007-dffe-470e-8d78-7730c6255f53",
   "metadata": {},
   "outputs": [],
   "source": []
  },
  {
   "cell_type": "code",
   "execution_count": null,
   "id": "4e0bd5aa-59b3-4db9-bf85-6e66a30ae24b",
   "metadata": {},
   "outputs": [],
   "source": []
  },
  {
   "cell_type": "code",
   "execution_count": null,
   "id": "be47b5be-47d0-49c7-9133-09452617420b",
   "metadata": {},
   "outputs": [],
   "source": []
  },
  {
   "cell_type": "code",
   "execution_count": null,
   "id": "6b9054f4-ce56-45d5-94b2-1531ae906de5",
   "metadata": {},
   "outputs": [],
   "source": []
  },
  {
   "cell_type": "code",
   "execution_count": null,
   "id": "0afbdda1-ade8-4a92-9c84-6a951f6a9340",
   "metadata": {},
   "outputs": [],
   "source": []
  },
  {
   "cell_type": "code",
   "execution_count": null,
   "id": "a45457b0-93d3-4507-950c-70c2d9b07a12",
   "metadata": {},
   "outputs": [],
   "source": []
  },
  {
   "cell_type": "code",
   "execution_count": null,
   "id": "9d28551d-24f6-45c8-9b51-48ecd845cada",
   "metadata": {},
   "outputs": [],
   "source": []
  },
  {
   "cell_type": "code",
   "execution_count": null,
   "id": "010abaca-ef32-47cf-8941-667966a5e3a6",
   "metadata": {},
   "outputs": [],
   "source": [
    "cd ~/eval-offline-chi\n",
    "mkdir -p models/{tinyroberta,roberta-base,bert-large,bert-large-onnx-i8}\n",
    "Each folder will contain:\n",
    "\n",
    "A Dockerfile\n",
    "\n",
    "A server.py (the gRPC or FastAPI inference server)\n",
    "\n",
    "The model weights (downloaded at build time)"
   ]
  },
  {
   "cell_type": "code",
   "execution_count": null,
   "id": "8b195474-25ab-4171-bb48-840fc6a8c606",
   "metadata": {},
   "outputs": [],
   "source": [
    "import torch\n",
    "from transformers import AutoModelForQuestionAnswering, AutoTokenizer\n",
    "import grpc, asyncio, time\n",
    "import qa_pb2, qa_pb2_grpc  # compiled from qa.proto\n",
    "\n",
    "class QAServicer(qa_pb2_grpc.QAServerServicer):\n",
    "    def __init__(self, model_name):\n",
    "        self.tokenizer = AutoTokenizer.from_pretrained(model_name)\n",
    "        self.model = AutoModelForQuestionAnswering.from_pretrained(model_name)\n",
    "        self.model.eval()\n",
    "\n",
    "    async def Answer(self, request, context):\n",
    "        t0 = time.time()\n",
    "        inputs = self.tokenizer(request.question, return_tensors=\"pt\")\n",
    "        t1 = time.time()\n",
    "        with torch.no_grad():\n",
    "            outputs = self.model(**inputs)\n",
    "        answer = self.tokenizer.decode(\n",
    "            inputs[\"input_ids\"][0][torch.argmax(outputs.start_logits): torch.argmax(outputs.end_logits)+1]\n",
    "        )\n",
    "        t2 = time.time()\n",
    "        return qa_pb2.AnswerResponse(\n",
    "            answer=answer,\n",
    "            confidence=float(outputs.start_logits.softmax(-1).max()),\n",
    "            retrieval_ms=0.0,\n",
    "            inference_ms=(t2-t1)*1000,\n",
    "            end_to_end_ms=(t2-t0)*1000,\n",
    "        )\n",
    "\n",
    "async def serve(model_name, port):\n",
    "    server = grpc.aio.server()\n",
    "    qa_pb2_grpc.add_QAServerServicer_to_server(QAServicer(model_name), server)\n",
    "    server.add_insecure_port(f\"[::]:{port}\")\n",
    "    await server.start()\n",
    "    print(f\"{model_name} ready on port {port}\")\n",
    "    await server.wait_for_termination()\n",
    "\n",
    "if __name__ == \"__main__\":\n",
    "    import os\n",
    "    asyncio.run(serve(\n",
    "        os.environ.get(\"MODEL_NAME\",\"deepset/tinyroberta-squad2\"),\n",
    "        int(os.environ.get(\"PORT\",\"50051\"))\n",
    "    ))\n"
   ]
  },
  {
   "cell_type": "code",
   "execution_count": null,
   "id": "8fa6ecf8-efac-407c-aa77-cf3a733ef20c",
   "metadata": {},
   "outputs": [],
   "source": [
    "cp tinyroberta/server.py roberta-base/\n",
    "cp tinyroberta/server.py bert-large/\n",
    "cp tinyroberta/server.py bert-large-onnx-i8/\n"
   ]
  },
  {
   "cell_type": "code",
   "execution_count": null,
   "id": "881f4cab-9570-48ce-ac91-0035e8255db3",
   "metadata": {},
   "outputs": [],
   "source": [
    "cd ~/eval-offline-chi\n",
    "nano qa.proto\n"
   ]
  },
  {
   "cell_type": "code",
   "execution_count": null,
   "id": "ce3947b5-975d-4c5f-8a32-dd7c9cf7ed8a",
   "metadata": {},
   "outputs": [],
   "source": [
    "syntax = \"proto3\";\n",
    "package qa;\n",
    "\n",
    "service QAServer {\n",
    "  rpc Answer(Question) returns (AnswerResponse) {}\n",
    "}\n",
    "\n",
    "message Question {\n",
    "  string question = 1;\n",
    "  string paper_id = 2; // optional\n",
    "}\n",
    "\n",
    "message AnswerResponse {\n",
    "  string answer = 1;\n",
    "  double confidence = 2;\n",
    "  double retrieval_ms = 3;\n",
    "  double inference_ms = 4;\n",
    "  double end_to_end_ms = 5;\n",
    "}\n"
   ]
  },
  {
   "cell_type": "code",
   "execution_count": null,
   "id": "d03cb3c8-94eb-4276-8d75-027015104940",
   "metadata": {},
   "outputs": [],
   "source": []
  },
  {
   "cell_type": "code",
   "execution_count": null,
   "id": "958b6ce7-8bfe-4f4b-b61f-2785848dfe7b",
   "metadata": {},
   "outputs": [],
   "source": []
  }
 ],
 "metadata": {
  "kernelspec": {
   "display_name": "Python 3 (ipykernel)",
   "language": "python",
   "name": "python3"
  },
  "language_info": {
   "codemirror_mode": {
    "name": "ipython",
    "version": 3
   },
   "file_extension": ".py",
   "mimetype": "text/x-python",
   "name": "python",
   "nbconvert_exporter": "python",
   "pygments_lexer": "ipython3",
   "version": "3.9.7"
  }
 },
 "nbformat": 4,
 "nbformat_minor": 5
}
